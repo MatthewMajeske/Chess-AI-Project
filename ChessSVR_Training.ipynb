{
 "cells": [
  {
   "cell_type": "code",
   "execution_count": 1,
   "id": "a6fe5519-07b4-4914-afb7-f13fe0b56912",
   "metadata": {},
   "outputs": [
    {
     "data": {
      "text/plain": [
       "(array([[-5, -3, -3, ..., 10,  3,  3],\n",
       "        [-5, -3, -3, ..., 10,  3,  3],\n",
       "        [-5, -3, -3, ..., 10,  3,  3],\n",
       "        ...,\n",
       "        [ 0,  0,  0, ...,  0,  0,  0],\n",
       "        [ 0,  0,  0, ...,  0,  0,  0],\n",
       "        [ 0,  0,  0, ...,  0,  0,  0]], dtype=int64),\n",
       " array([[ 5],\n",
       "        [ 5],\n",
       "        [ 5],\n",
       "        ...,\n",
       "        [ 0],\n",
       "        [ 0],\n",
       "        [-9]], dtype=int64))"
      ]
     },
     "execution_count": 1,
     "metadata": {},
     "output_type": "execute_result"
    }
   ],
   "source": [
    "#Seth Hensley\n",
    "#801055921\n",
    "#homework 4.2\n",
    "\n",
    "import warnings\n",
    "import numpy as np\n",
    "import matplotlib.pyplot as plt\n",
    "import pandas as pd\n",
    "import math\n",
    "\n",
    "from sklearn import metrics\n",
    "from sklearn import datasets \n",
    "from sklearn.datasets import load_breast_cancer\n",
    "from sklearn.naive_bayes import GaussianNB\n",
    "from sklearn.model_selection import train_test_split\n",
    "from sklearn.model_selection import KFold\n",
    "from sklearn.model_selection import cross_val_score\n",
    "from sklearn.linear_model import LogisticRegression\n",
    "from sklearn.metrics import confusion_matrix \n",
    "from sklearn.metrics import classification_report\n",
    "from sklearn.preprocessing import StandardScaler\n",
    "from sklearn.decomposition import PCA\n",
    "from sklearn.svm import SVR\n",
    "\n",
    "\n",
    "\n",
    "dataset = pd.read_csv(\"C:\\\\Users\\\\Owner\\\\Desktop\\\\64_squares.csv\")\n",
    "\n",
    "dataset\n",
    "\n",
    "X = dataset.values[:,0:63]\n",
    "\n",
    "\n",
    "X = np.array(X)\n",
    "\n",
    "Y = dataset.values[:,63:]\n",
    "\n",
    "\n",
    "\n",
    "m=len(X)\n",
    "\n",
    "#X=X.reshape(m,1)\n",
    "#Y=Y.reshape(m,)\n",
    "#y = column_or_1d(y, warn=True)\n",
    "\n",
    "X,Y"
   ]
  },
  {
   "cell_type": "code",
   "execution_count": null,
   "id": "8048cb31-6749-42f6-9844-4cb7e57ad4e1",
   "metadata": {},
   "outputs": [],
   "source": [
    "#X = data[[\"feature1\", \"feature2\", \"feature3\", ...]]\n",
    "#y = data[\"label\"]\n",
    "\n",
    "# Split the data into training and test sets\n",
    "Xtrain, Xtest, Ytrain, Ytest = train_test_split(X, Y, test_size=0.2, random_state=42)\n",
    "\n",
    "# Create a support vector regression model\n",
    "svr = SVR(kernel=\"linear\", C=1e3)\n",
    "\n",
    "# Train the model on the training data\n",
    "svr.fit(Xtrain, Ytrain.ravel())\n",
    "\n",
    "\n",
    "# Evaluate the model on the test data\n",
    "Ypred = svr.predict(Xtest)\n",
    "mse = mean_squared_error(Ytest, Ypred)\n",
    "\n",
    "# Print the mean squared error\n",
    "print(\"Mean squared error: \", mse)\n",
    "\n",
    "\n",
    "scorerb= SVR.score(xTest,linpred)\n",
    "print(scorerb)"
   ]
  }
 ],
 "metadata": {
  "kernelspec": {
   "display_name": "Python 3 (ipykernel)",
   "language": "python",
   "name": "python3"
  },
  "language_info": {
   "codemirror_mode": {
    "name": "ipython",
    "version": 3
   },
   "file_extension": ".py",
   "mimetype": "text/x-python",
   "name": "python",
   "nbconvert_exporter": "python",
   "pygments_lexer": "ipython3",
   "version": "3.9.12"
  }
 },
 "nbformat": 4,
 "nbformat_minor": 5
}
